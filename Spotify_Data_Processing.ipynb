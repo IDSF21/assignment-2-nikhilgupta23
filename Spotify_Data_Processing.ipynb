{
  "nbformat": 4,
  "nbformat_minor": 0,
  "metadata": {
    "colab": {
      "name": "Spotify Data Processing.ipynb",
      "provenance": [],
      "collapsed_sections": []
    },
    "kernelspec": {
      "name": "python3",
      "display_name": "Python 3"
    },
    "language_info": {
      "name": "python"
    }
  },
  "cells": [
    {
      "cell_type": "code",
      "metadata": {
        "id": "ibOwajdW_Tkr"
      },
      "source": [
        "import os\n",
        "import sys\n",
        "import pandas as pd\n",
        "\n",
        "\n",
        "from tqdm import tqdm\n",
        "\n",
        "import requests\n",
        "import json\n",
        "\n",
        "CLIENT_ID = ''\n",
        "CLIENT_SECRET = ''\n",
        "\n",
        "AUTH_URL = 'https://accounts.spotify.com/api/token'\n",
        "\n",
        "# POST\n",
        "auth_response = requests.post(AUTH_URL, {\n",
        "    'grant_type': 'client_credentials',\n",
        "    'client_id': CLIENT_ID,\n",
        "    'client_secret': CLIENT_SECRET,\n",
        "})\n",
        "\n",
        "# convert the response to JSON\n",
        "auth_response_data = auth_response.json()\n",
        "\n",
        "# save the access token\n",
        "access_token = auth_response_data['access_token']\n",
        "\n",
        "headers = {\n",
        "    'Authorization': 'Bearer {token}'.format(token=access_token)\n",
        "}\n",
        "\n",
        "pd.set_option('display.max_colwidth', None)"
      ],
      "execution_count": 187,
      "outputs": []
    },
    {
      "cell_type": "code",
      "metadata": {
        "id": "BhYo6dHJD3Zz"
      },
      "source": [
        "# base URL of all Spotify API endpoints\n",
        "BASE_URL = 'https://api.spotify.com/v1/'"
      ],
      "execution_count": 4,
      "outputs": []
    },
    {
      "cell_type": "code",
      "metadata": {
        "id": "y-izug6eBMg_"
      },
      "source": [
        "playlist_links = {}\n",
        "\n",
        "# add years from 1990 to 2020 into the dictionary as keys\n",
        "for i in range():\n",
        "    # empty string for now, will later do a playlist search and populate this list\n",
        "    playlist_links[i] = \"\""
      ],
      "execution_count": null,
      "outputs": []
    },
    {
      "cell_type": "code",
      "metadata": {
        "id": "9yw4KfcxB-JX"
      },
      "source": [
        "# Getting the values using print statements, and appending the values into the variable\n",
        "\n",
        "def get_top_playlists(query, typ, limit):\n",
        "    url = f\"{BASE_URL}search?q={query}&type={typ}&limit={limit}\"\n",
        "    r = requests.get(url, headers=headers)\n",
        "    result = r.json()\n",
        "\n",
        "    list_playlists = result['playlists']['items']\n",
        "    for playlist in list_playlists:\n",
        "        if 'Top Hits of ' in playlist['name'] and playlist['owner']['id'] == 'spotify':\n",
        "            final_playlists.append({\n",
        "                'name': playlist['name'],\n",
        "                'id': playlist['id']\n",
        "            })\n",
        "\n",
        "    # print(json.dumps(r.json(), indent=4))\n",
        "    for pl in final_playlists:\n",
        "        print(pl)\n",
        "\n",
        "# get_top_playlists(\"top%20hits%20of%20199\", 'playlist', 50)\n",
        "# get_top_playlists(\"top%20hits%20of%20200\", 'playlist', 50)\n",
        "# get_top_playlists(\"top%20hits%20of%20201\", 'playlist', 50)"
      ],
      "execution_count": null,
      "outputs": []
    },
    {
      "cell_type": "code",
      "metadata": {
        "id": "lv6lwJpVEKHe"
      },
      "source": [
        "playlists = [\n",
        "    {'name': 'Top Hits of 1990', 'id': '37i9dQZF1DX4joPVMjBCAo'},\n",
        "    {'name': 'Top Hits of 1999', 'id': '37i9dQZF1DX4PrR66miO50'},\n",
        "    {'name': 'Top Hits of 1995', 'id': '37i9dQZF1DXayIOFUOVODK'},\n",
        "    {'name': 'Top Hits of 1994', 'id': '37i9dQZF1DXbKFudfYGcmj'},\n",
        "    {'name': 'Top Hits of 1998', 'id': '37i9dQZF1DWWmGB2u14f8m'},\n",
        "    {'name': 'Top Hits of 1992', 'id': '37i9dQZF1DX9ZZCtVNwklG'},\n",
        "    {'name': 'Top Hits of 1991', 'id': '37i9dQZF1DX6TtJfRD994c'},\n",
        "    {'name': 'Top Hits of 1996', 'id': '37i9dQZF1DWZkDl55BkJmo'},\n",
        "    {'name': 'Top Hits of 1997', 'id': '37i9dQZF1DWWKd15PHZNnl'},\n",
        "    {'name': 'Top Hits of 1993', 'id': '37i9dQZF1DXbUFx5bcjwWK'},\n",
        "    {'name': 'Top Hits of 2000', 'id': '37i9dQZF1DWUZv12GM5cFk'},\n",
        "    {'name': 'Top Hits of 2009', 'id': '37i9dQZF1DX4UkKv8ED8jp'},\n",
        "    {'name': 'Top Hits of 2001', 'id': '37i9dQZF1DX9Ol4tZWPH6V'},\n",
        "    {'name': 'Top Hits of 2008', 'id': '37i9dQZF1DWYuGZUE4XQXm'},\n",
        "    {'name': 'Top Hits of 2004', 'id': '37i9dQZF1DWTWdbR13PQYH'},\n",
        "    {'name': 'Top Hits of 2007', 'id': '37i9dQZF1DX3j9EYdzv2N9'},\n",
        "    {'name': 'Top Hits of 2006', 'id': '37i9dQZF1DX1vSJnMeoy3V'},\n",
        "    {'name': 'Top Hits of 2005', 'id': '37i9dQZF1DWWzQTBs5BHX9'},\n",
        "    {'name': 'Top Hits of 2003', 'id': '37i9dQZF1DXaW8fzPh9b08'},\n",
        "    {'name': 'Top Hits of 2002', 'id': '37i9dQZF1DX0P7PzzKwEKl'},\n",
        "    {'name': 'Top Hits of 2010', 'id': '37i9dQZF1DXc6IFF23C9jj'},\n",
        "    {'name': 'Top Hits of 2011', 'id': '37i9dQZF1DXcagnSNtrGuJ'},\n",
        "    {'name': 'Top Hits of 2012', 'id': '37i9dQZF1DX0yEZaMOXna3'},\n",
        "    {'name': 'Top Hits of 2016', 'id': '37i9dQZF1DX8XZ6AUo9R4R'},\n",
        "    {'name': 'Top Hits of 2015', 'id': '37i9dQZF1DX9ukdrXQLJGZ'},\n",
        "    {'name': 'Top Hits of 2019', 'id': '37i9dQZF1DWVRSukIED0e9'},\n",
        "    {'name': 'Top Hits of 2018', 'id': '37i9dQZF1DXe2bobNYDtW8'},\n",
        "    {'name': 'Top Hits of 2013', 'id': '37i9dQZF1DX3Sp0P28SIer'},\n",
        "    {'name': 'Top Hits of 2017', 'id': '37i9dQZF1DWTE7dVUebpUW'},\n",
        "    {'name': 'Top Hits of 2014', 'id': '37i9dQZF1DX0h0QnLkMBl4'},\n",
        "]"
      ],
      "execution_count": 127,
      "outputs": []
    },
    {
      "cell_type": "markdown",
      "metadata": {
        "id": "zXs3giA3HOzo"
      },
      "source": [
        "For each playlist:\n",
        "* Get the list of song-ids from the playlist API\n",
        "* From the song-ids, fetch the song-details from the Tracks API\n",
        "* From the Audio Features API, fetch metadata features and store as part of a dataframe entry, along with Year information"
      ]
    },
    {
      "cell_type": "code",
      "metadata": {
        "id": "i64gE_5zG7Vx"
      },
      "source": [
        "playlist_tracks = {}\n",
        "\n",
        "def get_list_of_songs(playlist_id, year):\n",
        "    global playlist_tracks\n",
        "    list_tracks = []\n",
        "    \n",
        "    offset = 0\n",
        "    limit = 50\n",
        "    url = f\"{BASE_URL}playlists/{playlist_id}/tracks?limit={limit}&offset={offset}\"\n",
        "    r = requests.get(url, headers=headers)\n",
        "    result = r.json()\n",
        "    list_tracks.extend(result['items'])\n",
        "    \n",
        "    offset += limit\n",
        "    url = f\"{BASE_URL}playlists/{playlist_id}/tracks?limit={limit}&offset={offset}\"\n",
        "    r = requests.get(url, headers=headers)\n",
        "    result = r.json()\n",
        "    list_tracks.extend(result['items'])\n",
        "\n",
        "    if year not in playlist_tracks:\n",
        "        playlist_tracks[year] = []\n",
        "    for track in list_tracks:\n",
        "        playlist_tracks[year].append(track['track']['id'])\n",
        "\n",
        "for entry in playlists:\n",
        "    year = int(entry['name'].split(' ')[-1])\n",
        "    get_list_of_songs(entry['id'], year)\n"
      ],
      "execution_count": 128,
      "outputs": []
    },
    {
      "cell_type": "code",
      "metadata": {
        "id": "jAkQywVAVEfY"
      },
      "source": [
        "# Save this file in case variables get recycled\n",
        "\n",
        "with open('playlist_tracks.json', 'w') as file:\n",
        "    json.dump(playlist_tracks, file, indent=4)"
      ],
      "execution_count": 129,
      "outputs": []
    },
    {
      "cell_type": "markdown",
      "metadata": {
        "id": "rTAM3ySIWcot"
      },
      "source": [
        "Create a dataframe: \n",
        "1. Basic information: \n",
        "    * Song name\n",
        "    * Song year (from the loop)\n",
        "    * Artists (# separated list, as ',' and '&' can be part of artist names)\n",
        "    * Release Date\n",
        "    * Song ID\n",
        "    * Duration\n",
        "    * Explicit Content\n",
        "    * Popularity\n",
        "\n",
        "1. Audio Features\n",
        "    * Around 10 features\n",
        "\n",
        "* Each loop has an upper limit of 50 tracks obtained. So for each year, have to call the API twice with the correct set of list of IDs"
      ]
    },
    {
      "cell_type": "code",
      "metadata": {
        "id": "eLL6IwZeVwKQ"
      },
      "source": [
        "def create_dataframe(playlist_tracks):\n",
        "    global df\n",
        "\n",
        "    for year in playlist_tracks:\n",
        "        print(f\"Started {year}\")\n",
        "        # make two separate calls to the Spotify Tracks API to get basic information\n",
        "        list_ids_1 = playlist_tracks[year][:50]\n",
        "        list_ids_2 = playlist_tracks[year][50:]\n",
        "        \n",
        "        url = f\"{BASE_URL}tracks?ids={','.join(list_ids_1)}\"\n",
        "        r = requests.get(url, headers=headers)\n",
        "        result = r.json()\n",
        "        basic = result['tracks']\n",
        "\n",
        "        url = f\"{BASE_URL}tracks?ids={','.join(list_ids_2)}\"\n",
        "        r = requests.get(url, headers=headers)\n",
        "        result = r.json()\n",
        "        basic.extend(result['tracks'])\n",
        "\n",
        "        \n",
        "\n",
        "        # make 1 call to the Spotify Audio Features API to get other information\n",
        "        list_ids_1.extend(list_ids_2)\n",
        "        # print(full_list)\n",
        "        url = f\"{BASE_URL}audio-features?ids={','.join(list_ids_1)}\"\n",
        "        r = requests.get(url, headers=headers)\n",
        "        audio = r.json()['audio_features']\n",
        "        \n",
        "        for i in tqdm(range(100)):\n",
        "            # if (i == 56 or i == 58 or i == 57):\n",
        "            #     print('Starting',i, b['id'])\n",
        "            #     print(audio[i])\n",
        "            a = audio[i]\n",
        "            b = basic[i]\n",
        "\n",
        "            if a is not None:\n",
        "\n",
        "\n",
        "                artists = [ ar['name'] for ar in b['artists'] ]\n",
        "                # print(b['artists'][0]['id'])\n",
        "                primary_artist = b['artists'][0]['id']\n",
        "\n",
        "                dict_for_df = {\n",
        "                    'id': b['id'], \n",
        "                    'name': b['name'], \n",
        "                    'year': year,\n",
        "                    'rank_year': i+1,\n",
        "                    'artists': artists,\n",
        "                    'primary_artist_id': primary_artist,\n",
        "                    'artist_image': '', \n",
        "                    'artist_genres': '',\n",
        "                    'duration': b['duration_ms'], \n",
        "                    'explicit': b['explicit'], \n",
        "                    'popularity': b['popularity'],\n",
        "                    'danceability': a['danceability'], \n",
        "                    \"energy\": a['energy'], \n",
        "                    \"key\": a['key'], \n",
        "                    \"loudness\": a['loudness'], \n",
        "                    \"speechiness\": a[\"speechiness\"], \n",
        "                    \"acousticness\": a[\"acousticness\"], \n",
        "                    \"instrumentalness\": a[\"instrumentalness\"], \n",
        "                    \"liveness\": a[\"liveness\"], \n",
        "                    \"valence\": a[\"valence\"], \n",
        "                    \"tempo\": a[\"tempo\"],\n",
        "                }\n",
        "            else:\n",
        "                artists = [ ar['name'] for ar in b['artists'] ]\n",
        "                # print(b['artists'][0]['id'])\n",
        "                primary_artist = b['artists'][0]['id']\n",
        "\n",
        "                dict_for_df = {\n",
        "                    'id': b['id'], \n",
        "                    'name': b['name'], \n",
        "                    'year': year,\n",
        "                    'rank_year': i+1,\n",
        "                    'artists': artists,\n",
        "                    'primary_artist_id': primary_artist,\n",
        "                    'artist_image': '', \n",
        "                    'artist_genres': '',\n",
        "                    'duration': b['duration_ms'], \n",
        "                    'explicit': b['explicit'], \n",
        "                    'popularity': b['popularity'],\n",
        "                }\n",
        "\n",
        "            df = df.append(dict_for_df, ignore_index=True, verify_integrity=True)"
      ],
      "execution_count": 181,
      "outputs": []
    },
    {
      "cell_type": "code",
      "metadata": {
        "colab": {
          "base_uri": "https://localhost:8080/"
        },
        "id": "lJVcy8pOaQ28",
        "outputId": "b3457f7e-a199-42a7-d426-bd3d86b9d84c"
      },
      "source": [
        "del df\n",
        "\n",
        "df = pd.DataFrame(None, columns=[\n",
        "    'id', 'name', 'year', 'rank_year', 'artists', 'primary_artist_id', 'artist_image', 'artist_genres', 'duration', 'explicit', 'popularity',\n",
        "    'danceability', \"energy\", \"key\", \"loudness\", \"speechiness\", \"acousticness\", \n",
        "    \"instrumentalness\", \"liveness\", \"valence\", \"tempo\"\n",
        "])\n",
        "\n",
        "create_dataframe(playlist_tracks)"
      ],
      "execution_count": 182,
      "outputs": [
        {
          "output_type": "stream",
          "name": "stdout",
          "text": [
            "Started 1990\n"
          ]
        },
        {
          "output_type": "stream",
          "name": "stderr",
          "text": [
            "100%|██████████| 100/100 [00:00<00:00, 114.98it/s]\n"
          ]
        },
        {
          "output_type": "stream",
          "name": "stdout",
          "text": [
            "Started 1999\n"
          ]
        },
        {
          "output_type": "stream",
          "name": "stderr",
          "text": [
            "100%|██████████| 100/100 [00:00<00:00, 113.08it/s]\n"
          ]
        },
        {
          "output_type": "stream",
          "name": "stdout",
          "text": [
            "Started 1995\n"
          ]
        },
        {
          "output_type": "stream",
          "name": "stderr",
          "text": [
            "100%|██████████| 100/100 [00:00<00:00, 114.12it/s]\n"
          ]
        },
        {
          "output_type": "stream",
          "name": "stdout",
          "text": [
            "Started 1994\n"
          ]
        },
        {
          "output_type": "stream",
          "name": "stderr",
          "text": [
            "100%|██████████| 100/100 [00:00<00:00, 111.56it/s]\n"
          ]
        },
        {
          "output_type": "stream",
          "name": "stdout",
          "text": [
            "Started 1998\n"
          ]
        },
        {
          "output_type": "stream",
          "name": "stderr",
          "text": [
            "100%|██████████| 100/100 [00:00<00:00, 110.18it/s]\n"
          ]
        },
        {
          "output_type": "stream",
          "name": "stdout",
          "text": [
            "Started 1992\n"
          ]
        },
        {
          "output_type": "stream",
          "name": "stderr",
          "text": [
            "100%|██████████| 100/100 [00:00<00:00, 110.24it/s]\n"
          ]
        },
        {
          "output_type": "stream",
          "name": "stdout",
          "text": [
            "Started 1991\n"
          ]
        },
        {
          "output_type": "stream",
          "name": "stderr",
          "text": [
            "100%|██████████| 100/100 [00:00<00:00, 108.22it/s]\n"
          ]
        },
        {
          "output_type": "stream",
          "name": "stdout",
          "text": [
            "Started 1996\n"
          ]
        },
        {
          "output_type": "stream",
          "name": "stderr",
          "text": [
            "100%|██████████| 100/100 [00:00<00:00, 110.40it/s]\n"
          ]
        },
        {
          "output_type": "stream",
          "name": "stdout",
          "text": [
            "Started 1997\n"
          ]
        },
        {
          "output_type": "stream",
          "name": "stderr",
          "text": [
            "100%|██████████| 100/100 [00:00<00:00, 107.16it/s]\n"
          ]
        },
        {
          "output_type": "stream",
          "name": "stdout",
          "text": [
            "Started 1993\n"
          ]
        },
        {
          "output_type": "stream",
          "name": "stderr",
          "text": [
            "100%|██████████| 100/100 [00:00<00:00, 106.10it/s]\n"
          ]
        },
        {
          "output_type": "stream",
          "name": "stdout",
          "text": [
            "Started 2000\n"
          ]
        },
        {
          "output_type": "stream",
          "name": "stderr",
          "text": [
            "100%|██████████| 100/100 [00:00<00:00, 107.15it/s]\n"
          ]
        },
        {
          "output_type": "stream",
          "name": "stdout",
          "text": [
            "Started 2009\n"
          ]
        },
        {
          "output_type": "stream",
          "name": "stderr",
          "text": [
            "100%|██████████| 100/100 [00:00<00:00, 101.81it/s]\n"
          ]
        },
        {
          "output_type": "stream",
          "name": "stdout",
          "text": [
            "Started 2001\n"
          ]
        },
        {
          "output_type": "stream",
          "name": "stderr",
          "text": [
            "100%|██████████| 100/100 [00:00<00:00, 102.59it/s]\n"
          ]
        },
        {
          "output_type": "stream",
          "name": "stdout",
          "text": [
            "Started 2008\n"
          ]
        },
        {
          "output_type": "stream",
          "name": "stderr",
          "text": [
            "100%|██████████| 100/100 [00:00<00:00, 102.88it/s]\n"
          ]
        },
        {
          "output_type": "stream",
          "name": "stdout",
          "text": [
            "Started 2004\n"
          ]
        },
        {
          "output_type": "stream",
          "name": "stderr",
          "text": [
            "100%|██████████| 100/100 [00:00<00:00, 102.59it/s]\n"
          ]
        },
        {
          "output_type": "stream",
          "name": "stdout",
          "text": [
            "Started 2007\n"
          ]
        },
        {
          "output_type": "stream",
          "name": "stderr",
          "text": [
            "100%|██████████| 100/100 [00:00<00:00, 102.98it/s]\n"
          ]
        },
        {
          "output_type": "stream",
          "name": "stdout",
          "text": [
            "Started 2006\n"
          ]
        },
        {
          "output_type": "stream",
          "name": "stderr",
          "text": [
            "100%|██████████| 100/100 [00:00<00:00, 100.53it/s]\n"
          ]
        },
        {
          "output_type": "stream",
          "name": "stdout",
          "text": [
            "Started 2005\n"
          ]
        },
        {
          "output_type": "stream",
          "name": "stderr",
          "text": [
            "100%|██████████| 100/100 [00:01<00:00, 97.34it/s]\n"
          ]
        },
        {
          "output_type": "stream",
          "name": "stdout",
          "text": [
            "Started 2003\n"
          ]
        },
        {
          "output_type": "stream",
          "name": "stderr",
          "text": [
            "100%|██████████| 100/100 [00:00<00:00, 100.26it/s]\n"
          ]
        },
        {
          "output_type": "stream",
          "name": "stdout",
          "text": [
            "Started 2002\n"
          ]
        },
        {
          "output_type": "stream",
          "name": "stderr",
          "text": [
            "100%|██████████| 100/100 [00:01<00:00, 98.13it/s]\n"
          ]
        },
        {
          "output_type": "stream",
          "name": "stdout",
          "text": [
            "Started 2010\n"
          ]
        },
        {
          "output_type": "stream",
          "name": "stderr",
          "text": [
            "100%|██████████| 100/100 [00:01<00:00, 95.85it/s]\n"
          ]
        },
        {
          "output_type": "stream",
          "name": "stdout",
          "text": [
            "Started 2011\n"
          ]
        },
        {
          "output_type": "stream",
          "name": "stderr",
          "text": [
            "100%|██████████| 100/100 [00:01<00:00, 96.66it/s]\n"
          ]
        },
        {
          "output_type": "stream",
          "name": "stdout",
          "text": [
            "Started 2012\n"
          ]
        },
        {
          "output_type": "stream",
          "name": "stderr",
          "text": [
            "100%|██████████| 100/100 [00:01<00:00, 97.16it/s]\n"
          ]
        },
        {
          "output_type": "stream",
          "name": "stdout",
          "text": [
            "Started 2016\n"
          ]
        },
        {
          "output_type": "stream",
          "name": "stderr",
          "text": [
            "100%|██████████| 100/100 [00:01<00:00, 95.27it/s]\n"
          ]
        },
        {
          "output_type": "stream",
          "name": "stdout",
          "text": [
            "Started 2015\n"
          ]
        },
        {
          "output_type": "stream",
          "name": "stderr",
          "text": [
            "100%|██████████| 100/100 [00:01<00:00, 97.10it/s]\n"
          ]
        },
        {
          "output_type": "stream",
          "name": "stdout",
          "text": [
            "Started 2019\n"
          ]
        },
        {
          "output_type": "stream",
          "name": "stderr",
          "text": [
            "100%|██████████| 100/100 [00:01<00:00, 95.86it/s]\n"
          ]
        },
        {
          "output_type": "stream",
          "name": "stdout",
          "text": [
            "Started 2018\n"
          ]
        },
        {
          "output_type": "stream",
          "name": "stderr",
          "text": [
            "100%|██████████| 100/100 [00:01<00:00, 92.31it/s]\n"
          ]
        },
        {
          "output_type": "stream",
          "name": "stdout",
          "text": [
            "Started 2013\n"
          ]
        },
        {
          "output_type": "stream",
          "name": "stderr",
          "text": [
            "100%|██████████| 100/100 [00:01<00:00, 93.18it/s]\n"
          ]
        },
        {
          "output_type": "stream",
          "name": "stdout",
          "text": [
            "Started 2017\n"
          ]
        },
        {
          "output_type": "stream",
          "name": "stderr",
          "text": [
            "100%|██████████| 100/100 [00:01<00:00, 91.90it/s]\n"
          ]
        },
        {
          "output_type": "stream",
          "name": "stdout",
          "text": [
            "Started 2014\n"
          ]
        },
        {
          "output_type": "stream",
          "name": "stderr",
          "text": [
            "100%|██████████| 100/100 [00:01<00:00, 95.67it/s]\n"
          ]
        }
      ]
    },
    {
      "cell_type": "code",
      "metadata": {
        "id": "Dh9oqp2BaTO9"
      },
      "source": [
        "display(df)"
      ],
      "execution_count": null,
      "outputs": []
    },
    {
      "cell_type": "code",
      "metadata": {
        "id": "IT57d5Qivluf"
      },
      "source": [
        "# get unique set of artist ids, and make API calls to get their genres, and the artist image URL\n",
        "\n",
        "unique_artists = df['primary_artist_id'].unique()\n",
        "artists = {}\n",
        "\"\"\"\n",
        "each artist, referenced by key:\n",
        "    key: {\n",
        "        image_url: '',\n",
        "        genres: []\n",
        "    }\n",
        "\n",
        "\"\"\"\n",
        "batch=[]\n",
        "full_data = []\n",
        "for i, artist_id in enumerate(unique_artists):\n",
        "    if i%50 == 0 and i != 0:\n",
        "        # make API call here\n",
        "        url = f\"{BASE_URL}artists?ids={','.join(batch)}\"\n",
        "        r = requests.get(url, headers=headers)\n",
        "        result = r.json()\n",
        "        full_data.extend(result['artists'])\n",
        "\n",
        "        batch = []\n",
        "\n",
        "    batch.append(artist_id)\n",
        "url = f\"{BASE_URL}artists?ids={','.join(batch)}\"\n",
        "r = requests.get(url, headers=headers)\n",
        "result = r.json()\n",
        "full_data.extend(result['artists'])"
      ],
      "execution_count": 183,
      "outputs": []
    },
    {
      "cell_type": "code",
      "metadata": {
        "id": "n0xnRuPxyLZc"
      },
      "source": [
        "for data in full_data:\n",
        "    if data['images']:\n",
        "        artists[data['id']] = {\n",
        "            'image_url': data['images'][0]['url'],\n",
        "            'genres': data['genres']\n",
        "        }\n",
        "    else:\n",
        "        artists[data['id']] = {\n",
        "            'image_url': '',\n",
        "            'genres': data['genres']\n",
        "        }"
      ],
      "execution_count": 184,
      "outputs": []
    },
    {
      "cell_type": "code",
      "metadata": {
        "id": "7EUaqVgEypjv"
      },
      "source": [
        "# add the above information into the dataframe based on the primary_artist_key\n",
        "\n",
        "for idx, row in df.iterrows():\n",
        "    primary_artist = row['primary_artist_id']\n",
        "    df.at[idx, 'artist_image'] = artists[primary_artist]['image_url']\n",
        "    df.at[idx, 'artist_genres'] = artists[primary_artist]['genres']"
      ],
      "execution_count": null,
      "outputs": []
    },
    {
      "cell_type": "code",
      "metadata": {
        "id": "hHjIPEn2z7fL"
      },
      "source": [
        "display(df)"
      ],
      "execution_count": null,
      "outputs": []
    },
    {
      "cell_type": "code",
      "metadata": {
        "id": "Y0NgDn-k05dV"
      },
      "source": [
        "df.to_csv('spotify_data.csv')"
      ],
      "execution_count": 189,
      "outputs": []
    },
    {
      "cell_type": "code",
      "metadata": {
        "id": "W3YHWpsg2-c3"
      },
      "source": [
        ""
      ],
      "execution_count": null,
      "outputs": []
    }
  ]
}